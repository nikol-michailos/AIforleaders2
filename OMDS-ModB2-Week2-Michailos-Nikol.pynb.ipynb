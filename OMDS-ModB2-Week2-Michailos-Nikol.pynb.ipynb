{
 "cells": [
  {
   "cell_type": "markdown",
   "id": "5190b54c-d49c-4d6f-80cc-22555336a9cd",
   "metadata": {},
   "source": [
    "# Week 2 - Preprocessing, part 2\n",
    "\n",
    "# 1. Lesson: None"
   ]
  },
  {
   "cell_type": "markdown",
   "id": "47c4e5ff-b05f-4ef2-96f1-49dcb5beb158",
   "metadata": {},
   "source": [
    "# 2. Weekly graph question"
   ]
  },
  {
   "cell_type": "markdown",
   "id": "aad37e29-6e84-41fa-886d-abc1312213ab",
   "metadata": {},
   "source": [
    "The Storytelling With Data book mentions planning on a \"Who, What, and How\" for your data story.  Write down a possible Who, What, and How for your data, using the ideas in the book."
   ]
  },
  {
   "cell_type": "code",
   "execution_count": null,
   "id": "c862fc32-1297-4587-b9da-4b0642ab3e6e",
   "metadata": {},
   "outputs": [],
   "source": []
  },
  {
   "cell_type": "markdown",
   "id": "898eb327-aefd-4ac0-b95a-92b616a2181b",
   "metadata": {},
   "source": [
    "# 3. Homework - work with your own data"
   ]
  },
  {
   "cell_type": "code",
   "execution_count": 10,
   "id": "fe925521-979f-4983-8d85-8db8d1316e99",
   "metadata": {},
   "outputs": [],
   "source": [
    "import pandas as pd\n",
    "import numpy as np\n",
    "from datetime import datetime, timedelta\n",
    "import os\n"
   ]
  },
  {
   "cell_type": "markdown",
   "id": "14836788-b235-4cd4-b94d-5f749c6141a8",
   "metadata": {},
   "source": [
    "This week, you will do the same types of exercises as last week, but you should use your chosen datasets that someone in your class found last semester. (They likely will not be the particular datasets that you found yourself.)\n",
    "\n",
    "### Here are some types of analysis you can do  Use Google, documentation, and ChatGPT to help you:\n",
    "\n",
    "- Summarize the datasets using info() and describe()\n",
    "\n",
    "- Are there any duplicate rows?\n",
    "\n",
    "- Are there any duplicate values in a given column (when this would be inappropriate?)\n",
    "\n",
    "- What are the mean, median, and mode of each column?\n",
    "\n",
    "- Are there any missing or null values?\n",
    "\n",
    "    - Do you want to fill in the missing value with a mean value?  A value of your choice?  Remove that row?\n",
    "\n",
    "- Identify any other inconsistent data (e.g. someone seems to be taking an action before they are born.)\n",
    "\n",
    "- Encode any categorical variables (e.g. with one-hot encoding.)\n",
    "\n",
    "### Conclusions:\n",
    "\n",
    "- Are the data usable?  If not, find some new data!\n",
    "\n",
    "- Do you need to modify or correct the data in some way?\n",
    "\n",
    "- Is there any class imbalance?  (Categories that have many more items than other categories)."
   ]
  },
  {
   "cell_type": "markdown",
   "id": "abab9e6d-18cc-4863-b980-3e52f581763a",
   "metadata": {},
   "source": [
    "# 4. Storytelling With Data graph"
   ]
  },
  {
   "cell_type": "markdown",
   "id": "1911148d-9df6-4b33-a875-8c96408ec834",
   "metadata": {},
   "source": [
    "Just like last week: choose any graph in the Introduction of Storytelling With Data. Use matplotlib to reproduce it in a rough way. I don't expect you to spend an enormous amount of time on this; I understand that you likely will not have time to re-create every feature of the graph. However, if you're excited about learning to use matplotlib, this is a good way to do that. You don't have to duplicate the exact values on the graph; just the same rough shape will be enough.  If you don't feel comfortable using matplotlib yet, do the best you can and write down what you tried or what Google searches you did to find the answers."
   ]
  },
  {
   "cell_type": "code",
   "execution_count": 11,
   "id": "69f96b6e",
   "metadata": {},
   "outputs": [
    {
     "name": "stdout",
     "output_type": "stream",
     "text": [
      "Path to dataset files: /Users/nm/.cache/kagglehub/datasets/mrwellsdavid/unsw-nb15/versions/1\n",
      "\n",
      "Files in dataset directory:\n",
      "['UNSW-NB15_3.csv', 'UNSW-NB15_2.csv', 'NUSW-NB15_features.csv', 'UNSW-NB15_1.csv', 'UNSW-NB15_4.csv', 'UNSW_NB15_testing-set.csv', 'UNSW-NB15_LIST_EVENTS.csv', 'UNSW_NB15_training-set.csv']\n"
     ]
    }
   ],
   "source": [
    "\n",
    "# Download dataset\n",
    "import kagglehub\n",
    "path = kagglehub.dataset_download(\"mrwellsdavid/unsw-nb15\")\n",
    "print(\"Path to dataset files:\", path)\n",
    "\n",
    "# ✅ NEW: See what files are in the directory\n",
    "print(\"\\nFiles in dataset directory:\")\n",
    "print(os.listdir(path))\n"
   ]
  },
  {
   "cell_type": "code",
   "execution_count": 12,
   "id": "8b2888f9-3700-45ab-9829-6a5372106f9f",
   "metadata": {},
   "outputs": [
    {
     "name": "stdout",
     "output_type": "stream",
     "text": [
      "Path to dataset files: /Users/nm/.cache/kagglehub/datasets/mrwellsdavid/unsw-nb15/versions/1\n",
      "\n",
      "Files in dataset directory:\n",
      "['UNSW-NB15_3.csv', 'UNSW-NB15_2.csv', 'NUSW-NB15_features.csv', 'UNSW-NB15_1.csv', 'UNSW-NB15_4.csv', 'UNSW_NB15_testing-set.csv', 'UNSW-NB15_LIST_EVENTS.csv', 'UNSW_NB15_training-set.csv']\n",
      "\n",
      "Initial Dataset Info:\n",
      "<class 'pandas.core.frame.DataFrame'>\n",
      "RangeIndex: 82332 entries, 0 to 82331\n",
      "Data columns (total 45 columns):\n",
      " #   Column             Non-Null Count  Dtype  \n",
      "---  ------             --------------  -----  \n",
      " 0   id                 82332 non-null  int64  \n",
      " 1   dur                82332 non-null  float64\n",
      " 2   proto              82332 non-null  object \n",
      " 3   service            82332 non-null  object \n",
      " 4   state              82332 non-null  object \n",
      " 5   spkts              82332 non-null  int64  \n",
      " 6   dpkts              82332 non-null  int64  \n",
      " 7   sbytes             82332 non-null  int64  \n",
      " 8   dbytes             82332 non-null  int64  \n",
      " 9   rate               82332 non-null  float64\n",
      " 10  sttl               82332 non-null  int64  \n",
      " 11  dttl               82332 non-null  int64  \n",
      " 12  sload              82332 non-null  float64\n",
      " 13  dload              82332 non-null  float64\n",
      " 14  sloss              82332 non-null  int64  \n",
      " 15  dloss              82332 non-null  int64  \n",
      " 16  sinpkt             82332 non-null  float64\n",
      " 17  dinpkt             82332 non-null  float64\n",
      " 18  sjit               82332 non-null  float64\n",
      " 19  djit               82332 non-null  float64\n",
      " 20  swin               82332 non-null  int64  \n",
      " 21  stcpb              82332 non-null  int64  \n",
      " 22  dtcpb              82332 non-null  int64  \n",
      " 23  dwin               82332 non-null  int64  \n",
      " 24  tcprtt             82332 non-null  float64\n",
      " 25  synack             82332 non-null  float64\n",
      " 26  ackdat             82332 non-null  float64\n",
      " 27  smean              82332 non-null  int64  \n",
      " 28  dmean              82332 non-null  int64  \n",
      " 29  trans_depth        82332 non-null  int64  \n",
      " 30  response_body_len  82332 non-null  int64  \n",
      " 31  ct_srv_src         82332 non-null  int64  \n",
      " 32  ct_state_ttl       82332 non-null  int64  \n",
      " 33  ct_dst_ltm         82332 non-null  int64  \n",
      " 34  ct_src_dport_ltm   82332 non-null  int64  \n",
      " 35  ct_dst_sport_ltm   82332 non-null  int64  \n",
      " 36  ct_dst_src_ltm     82332 non-null  int64  \n",
      " 37  is_ftp_login       82332 non-null  int64  \n",
      " 38  ct_ftp_cmd         82332 non-null  int64  \n",
      " 39  ct_flw_http_mthd   82332 non-null  int64  \n",
      " 40  ct_src_ltm         82332 non-null  int64  \n",
      " 41  ct_srv_dst         82332 non-null  int64  \n",
      " 42  is_sm_ips_ports    82332 non-null  int64  \n",
      " 43  attack_cat         82332 non-null  object \n",
      " 44  label              82332 non-null  int64  \n",
      "dtypes: float64(11), int64(30), object(4)\n",
      "memory usage: 28.3+ MB\n",
      "None\n",
      "                  id           dur  proto service  state         spkts  \\\n",
      "count   82332.000000  82332.000000  82332   82332  82332  82332.000000   \n",
      "unique           NaN           NaN    131      13      7           NaN   \n",
      "top              NaN           NaN    tcp       -    FIN           NaN   \n",
      "freq             NaN           NaN  43095   47153  39339           NaN   \n",
      "mean    41166.500000      1.006756    NaN     NaN    NaN     18.666472   \n",
      "std     23767.345519      4.710444    NaN     NaN    NaN    133.916353   \n",
      "min         1.000000      0.000000    NaN     NaN    NaN      1.000000   \n",
      "25%     20583.750000      0.000008    NaN     NaN    NaN      2.000000   \n",
      "50%     41166.500000      0.014138    NaN     NaN    NaN      6.000000   \n",
      "75%     61749.250000      0.719360    NaN     NaN    NaN     12.000000   \n",
      "max     82332.000000     59.999989    NaN     NaN    NaN  10646.000000   \n",
      "\n",
      "               dpkts        sbytes        dbytes          rate  ...  \\\n",
      "count   82332.000000  8.233200e+04  8.233200e+04  8.233200e+04  ...   \n",
      "unique           NaN           NaN           NaN           NaN  ...   \n",
      "top              NaN           NaN           NaN           NaN  ...   \n",
      "freq             NaN           NaN           NaN           NaN  ...   \n",
      "mean       17.545936  7.993908e+03  1.323379e+04  8.241089e+04  ...   \n",
      "std       115.574086  1.716423e+05  1.514715e+05  1.486204e+05  ...   \n",
      "min         0.000000  2.400000e+01  0.000000e+00  0.000000e+00  ...   \n",
      "25%         0.000000  1.140000e+02  0.000000e+00  2.860611e+01  ...   \n",
      "50%         2.000000  5.340000e+02  1.780000e+02  2.650177e+03  ...   \n",
      "75%        10.000000  1.280000e+03  9.560000e+02  1.111111e+05  ...   \n",
      "max     11018.000000  1.435577e+07  1.465753e+07  1.000000e+06  ...   \n",
      "\n",
      "        ct_dst_sport_ltm  ct_dst_src_ltm  is_ftp_login    ct_ftp_cmd  \\\n",
      "count       82332.000000    82332.000000  82332.000000  82332.000000   \n",
      "unique               NaN             NaN           NaN           NaN   \n",
      "top                  NaN             NaN           NaN           NaN   \n",
      "freq                 NaN             NaN           NaN           NaN   \n",
      "mean            3.663011        7.456360      0.008284      0.008381   \n",
      "std             5.915386       11.415191      0.091171      0.092485   \n",
      "min             1.000000        1.000000      0.000000      0.000000   \n",
      "25%             1.000000        1.000000      0.000000      0.000000   \n",
      "50%             1.000000        3.000000      0.000000      0.000000   \n",
      "75%             3.000000        6.000000      0.000000      0.000000   \n",
      "max            38.000000       63.000000      2.000000      2.000000   \n",
      "\n",
      "        ct_flw_http_mthd    ct_src_ltm    ct_srv_dst  is_sm_ips_ports  \\\n",
      "count       82332.000000  82332.000000  82332.000000     82332.000000   \n",
      "unique               NaN           NaN           NaN              NaN   \n",
      "top                  NaN           NaN           NaN              NaN   \n",
      "freq                 NaN           NaN           NaN              NaN   \n",
      "mean            0.129743      6.468360      9.164262         0.011126   \n",
      "std             0.638683      8.543927     11.121413         0.104891   \n",
      "min             0.000000      1.000000      1.000000         0.000000   \n",
      "25%             0.000000      1.000000      2.000000         0.000000   \n",
      "50%             0.000000      3.000000      5.000000         0.000000   \n",
      "75%             0.000000      7.000000     11.000000         0.000000   \n",
      "max            16.000000     60.000000     62.000000         1.000000   \n",
      "\n",
      "        attack_cat         label  \n",
      "count        82332  82332.000000  \n",
      "unique          10           NaN  \n",
      "top         Normal           NaN  \n",
      "freq         37000           NaN  \n",
      "mean           NaN      0.550600  \n",
      "std            NaN      0.497436  \n",
      "min            NaN      0.000000  \n",
      "25%            NaN      0.000000  \n",
      "50%            NaN      1.000000  \n",
      "75%            NaN      1.000000  \n",
      "max            NaN      1.000000  \n",
      "\n",
      "[11 rows x 45 columns]\n",
      "\n",
      "Cleaned Dataset Shape: (82332, 185)\n",
      "\n",
      "Class imbalance in attack categories:\n",
      "attack_cat\n",
      "Normal      0.449400\n",
      "Generic     0.229206\n",
      "Exploits    0.135209\n",
      "Fuzzers     0.073629\n",
      "DoS         0.049665\n",
      "Name: proportion, dtype: float64\n"
     ]
    },
    {
     "name": "stderr",
     "output_type": "stream",
     "text": [
      "/var/folders/5n/k5t2wl_17wg_8vz3nbtgdrsr0000gn/T/ipykernel_6876/3292288073.py:27: FutureWarning: DataFrame.fillna with 'method' is deprecated and will raise in a future version. Use obj.ffill() or obj.bfill() instead.\n",
      "  df.fillna(method='ffill', inplace=True)\n"
     ]
    },
    {
     "data": {
      "image/png": "[encoded data removed]",
      "text/plain": [
       "<Figure size 1000x600 with 1 Axes>"
      ]
     },
     "metadata": {},
     "output_type": "display_data"
    }
   ],
   "source": [
    "import os\n",
    "import kagglehub\n",
    "import pandas as pd\n",
    "import numpy as np\n",
    "from datetime import datetime, timedelta\n",
    "import matplotlib.pyplot as plt\n",
    "\n",
    "# Step 1: Download dataset\n",
    "path = kagglehub.dataset_download(\"mrwellsdavid/unsw-nb15\")\n",
    "print(\"Path to dataset files:\", path)\n",
    "\n",
    "# Step 2: Confirm available files (already done)\n",
    "print(\"\\nFiles in dataset directory:\")\n",
    "print(os.listdir(path))\n",
    "\n",
    "# Step 3: Load training dataset\n",
    "csv_file = os.path.join(path, \"UNSW_NB15_training-set.csv\")\n",
    "df = pd.read_csv(csv_file)\n",
    "\n",
    "# Step 4: Inspect dataset\n",
    "print(\"\\nInitial Dataset Info:\")\n",
    "print(df.info())\n",
    "print(df.describe(include='all'))\n",
    "\n",
    "# Step 5: Clean the data\n",
    "df.drop_duplicates(inplace=True)\n",
    "df.fillna(method='ffill', inplace=True)\n",
    "df = df[df['attack_cat'].notnull()]\n",
    "\n",
    "# Step 6: Optional encoding\n",
    "if 'proto' in df.columns and 'service' in df.columns:\n",
    "    df = pd.get_dummies(df, columns=['proto', 'service'], drop_first=True)\n",
    "\n",
    "print(\"\\nCleaned Dataset Shape:\", df.shape)\n",
    "print(\"\\nClass imbalance in attack categories:\")\n",
    "print(df['attack_cat'].value_counts(normalize=True).head())\n",
    "\n",
    "# Step 7: Plot attack category distribution\n",
    "attack_counts = df['attack_cat'].value_counts()\n",
    "\n",
    "plt.figure(figsize=(10, 6))\n",
    "attack_counts.plot(kind='barh', color='skyblue')\n",
    "plt.xlabel('Number of Records')\n",
    "plt.ylabel('Attack Category')\n",
    "plt.title('Distribution of Attack Types in UNSW-NB15 Training Set')\n",
    "plt.grid(axis='x', linestyle='--', alpha=0.7)\n",
    "plt.tight_layout()\n",
    "plt.show()\n"
   ]
  },
  {
   "cell_type": "markdown",
   "id": "48bcd3e5",
   "metadata": {},
   "source": [
    "Storytelling With Data Graph: \n",
    "\n",
    "I chose a horizontal bar chart similar to the one in the Storytelling With Data introduction that showed how values across categories can be compared visually. I recreated a similar chart using the attack_cat column from the UNSW-NB15 training set to show the distribution of different attack types.\n",
    "\n",
    "What I tried:\n",
    "- Used .value_counts() to count the attack categories\n",
    "- Used .plot(kind='barh') to create a horizontal bar chart\n",
    "- Added xlabel, ylabel, and title for clarity\n",
    "\n",
    "Search terms I used:\n",
    "“matplotlib horizontal bar chart”\n",
    "“how to label axes matplotlib”\n",
    "“pandas value_counts plot barh”"
   ]
  }
 ],
 "metadata": {
  "kernelspec": {
   "display_name": "Python 3",
   "language": "python",
   "name": "python3"
  },
  "language_info": {
   "codemirror_mode": {
    "name": "ipython",
    "version": 3
   },
   "file_extension": ".py",
   "mimetype": "text/x-python",
   "name": "python",
   "nbconvert_exporter": "python",
   "pygments_lexer": "ipython3",
   "version": "3.9.6"
  }
 },
 "nbformat": 4,
 "nbformat_minor": 5
}
